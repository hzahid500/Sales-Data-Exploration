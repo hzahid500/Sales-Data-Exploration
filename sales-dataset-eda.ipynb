{
 "cells": [
  {
   "cell_type": "code",
   "execution_count": 1,
   "id": "5a5fdce2",
   "metadata": {
    "_cell_guid": "b1076dfc-b9ad-4769-8c92-a6c4dae69d19",
    "_uuid": "8f2839f25d086af736a60e9eeb907d3b93b6e0e5",
    "execution": {
     "iopub.execute_input": "2023-03-28T04:32:55.604738Z",
     "iopub.status.busy": "2023-03-28T04:32:55.604254Z",
     "iopub.status.idle": "2023-03-28T04:32:55.616483Z",
     "shell.execute_reply": "2023-03-28T04:32:55.615088Z"
    },
    "papermill": {
     "duration": 0.024322,
     "end_time": "2023-03-28T04:32:55.619372",
     "exception": false,
     "start_time": "2023-03-28T04:32:55.595050",
     "status": "completed"
    },
    "tags": []
   },
   "outputs": [],
   "source": [
    "# importing necessary modules for analysis\n",
    "\n",
    "import pandas as pd\n",
    "import os\n",
    "import numpy as np\n",
    "import matplotlib.pyplot as plt"
   ]
  },
  {
   "cell_type": "code",
   "execution_count": 2,
   "id": "1cd136b0",
   "metadata": {
    "execution": {
     "iopub.execute_input": "2023-03-28T04:32:55.634685Z",
     "iopub.status.busy": "2023-03-28T04:32:55.634150Z",
     "iopub.status.idle": "2023-03-28T04:32:56.837026Z",
     "shell.execute_reply": "2023-03-28T04:32:56.835434Z"
    },
    "papermill": {
     "duration": 1.214591,
     "end_time": "2023-03-28T04:32:56.840487",
     "exception": false,
     "start_time": "2023-03-28T04:32:55.625896",
     "status": "completed"
    },
    "tags": []
   },
   "outputs": [],
   "source": [
    "# importing csv and combining all the csv files into one call all_data\n",
    "\n",
    "df = pd.read_csv('/kaggle/input/sales-dataset/Sales_April_2019.csv')\n",
    "\n",
    "files = [file for file in os.listdir('/kaggle/input/sales-dataset')]\n",
    "\n",
    "all_months_data = pd.DataFrame()\n",
    "\n",
    "for file in files:\n",
    "    df = pd.read_csv('/kaggle/input/sales-dataset/'+file)\n",
    "    all_months_data = pd.concat([all_months_data, df])\n",
    "\n",
    "all_months_data.to_csv(\"all_data.csv\", index=False)"
   ]
  },
  {
   "cell_type": "code",
   "execution_count": 3,
   "id": "3e36b8cf",
   "metadata": {
    "execution": {
     "iopub.execute_input": "2023-03-28T04:32:56.855655Z",
     "iopub.status.busy": "2023-03-28T04:32:56.855179Z",
     "iopub.status.idle": "2023-03-28T04:32:57.296645Z",
     "shell.execute_reply": "2023-03-28T04:32:57.295368Z"
    },
    "papermill": {
     "duration": 0.452238,
     "end_time": "2023-03-28T04:32:57.299331",
     "exception": false,
     "start_time": "2023-03-28T04:32:56.847093",
     "status": "completed"
    },
    "tags": []
   },
   "outputs": [],
   "source": [
    "all_data = pd.read_csv(\"all_data.csv\")"
   ]
  },
  {
   "cell_type": "code",
   "execution_count": 4,
   "id": "b0c723fe",
   "metadata": {
    "execution": {
     "iopub.execute_input": "2023-03-28T04:32:57.313680Z",
     "iopub.status.busy": "2023-03-28T04:32:57.313262Z",
     "iopub.status.idle": "2023-03-28T04:32:57.321880Z",
     "shell.execute_reply": "2023-03-28T04:32:57.319637Z"
    },
    "papermill": {
     "duration": 0.019202,
     "end_time": "2023-03-28T04:32:57.325017",
     "exception": false,
     "start_time": "2023-03-28T04:32:57.305815",
     "status": "completed"
    },
    "tags": []
   },
   "outputs": [],
   "source": [
    "all_data.columns.str.replace(\" \",\"_\").str.lower()\n",
    "all_data.columns = ['order_id', 'product', 'quantity_ordered', 'price_each', 'order_date',\n",
    "       'purchase_address']\n"
   ]
  },
  {
   "cell_type": "code",
   "execution_count": 5,
   "id": "386b063f",
   "metadata": {
    "execution": {
     "iopub.execute_input": "2023-03-28T04:32:57.340364Z",
     "iopub.status.busy": "2023-03-28T04:32:57.339950Z",
     "iopub.status.idle": "2023-03-28T04:32:57.517078Z",
     "shell.execute_reply": "2023-03-28T04:32:57.515778Z"
    },
    "papermill": {
     "duration": 0.188059,
     "end_time": "2023-03-28T04:32:57.519844",
     "exception": false,
     "start_time": "2023-03-28T04:32:57.331785",
     "status": "completed"
    },
    "tags": []
   },
   "outputs": [
    {
     "data": {
      "text/plain": [
       "order_id            0\n",
       "product             0\n",
       "quantity_ordered    0\n",
       "price_each          0\n",
       "order_date          0\n",
       "purchase_address    0\n",
       "dtype: int64"
      ]
     },
     "execution_count": 5,
     "metadata": {},
     "output_type": "execute_result"
    }
   ],
   "source": [
    "# dropping all nan values in the dataset\n",
    "\n",
    "nan_df = all_data[all_data.isna().any(axis=1)]\n",
    "nan_df\n",
    "\n",
    "all_data = all_data.dropna(how='all')\n",
    "all_data.isnull().sum()"
   ]
  },
  {
   "cell_type": "code",
   "execution_count": 6,
   "id": "6221fc05",
   "metadata": {
    "execution": {
     "iopub.execute_input": "2023-03-28T04:32:57.534877Z",
     "iopub.status.busy": "2023-03-28T04:32:57.534386Z",
     "iopub.status.idle": "2023-03-28T04:32:57.625736Z",
     "shell.execute_reply": "2023-03-28T04:32:57.624545Z"
    },
    "papermill": {
     "duration": 0.102436,
     "end_time": "2023-03-28T04:32:57.628790",
     "exception": false,
     "start_time": "2023-03-28T04:32:57.526354",
     "status": "completed"
    },
    "tags": []
   },
   "outputs": [],
   "source": [
    "all_data = all_data[all_data['order_date'].str[0:2] != 'Or']"
   ]
  },
  {
   "cell_type": "code",
   "execution_count": 7,
   "id": "26211395",
   "metadata": {
    "execution": {
     "iopub.execute_input": "2023-03-28T04:32:57.644120Z",
     "iopub.status.busy": "2023-03-28T04:32:57.643720Z",
     "iopub.status.idle": "2023-03-28T04:32:57.732133Z",
     "shell.execute_reply": "2023-03-28T04:32:57.729751Z"
    },
    "papermill": {
     "duration": 0.100855,
     "end_time": "2023-03-28T04:32:57.736410",
     "exception": false,
     "start_time": "2023-03-28T04:32:57.635555",
     "status": "completed"
    },
    "tags": []
   },
   "outputs": [
    {
     "data": {
      "text/plain": [
       "order_id            object\n",
       "product             object\n",
       "quantity_ordered    object\n",
       "price_each          object\n",
       "order_date          object\n",
       "purchase_address    object\n",
       "month                int64\n",
       "dtype: object"
      ]
     },
     "execution_count": 7,
     "metadata": {},
     "output_type": "execute_result"
    }
   ],
   "source": [
    "# adding a month column to the dataset, and converting the new month column into an 'int' dtype\n",
    "\n",
    "all_data['month'] = all_data['order_date'].str[0:2]\n",
    "all_data['month'] = all_data['month'].astype(int)\n",
    "all_data.dtypes"
   ]
  },
  {
   "cell_type": "code",
   "execution_count": 8,
   "id": "598f7ddc",
   "metadata": {
    "execution": {
     "iopub.execute_input": "2023-03-28T04:32:57.754292Z",
     "iopub.status.busy": "2023-03-28T04:32:57.753772Z",
     "iopub.status.idle": "2023-03-28T04:32:57.899648Z",
     "shell.execute_reply": "2023-03-28T04:32:57.898008Z"
    },
    "papermill": {
     "duration": 0.159356,
     "end_time": "2023-03-28T04:32:57.903444",
     "exception": false,
     "start_time": "2023-03-28T04:32:57.744088",
     "status": "completed"
    },
    "tags": []
   },
   "outputs": [
    {
     "data": {
      "text/plain": [
       "order_id             object\n",
       "product              object\n",
       "quantity_ordered      int64\n",
       "price_each          float64\n",
       "order_date           object\n",
       "purchase_address     object\n",
       "month                 int64\n",
       "dtype: object"
      ]
     },
     "execution_count": 8,
     "metadata": {},
     "output_type": "execute_result"
    }
   ],
   "source": [
    "# converting quantity_ordered into int data type and price_each column into float data type\n",
    "\n",
    "all_data['quantity_ordered'] = pd.to_numeric(all_data['quantity_ordered'])\n",
    "all_data['price_each'] = pd.to_numeric(all_data['price_each'])\n",
    "all_data.dtypes"
   ]
  },
  {
   "cell_type": "code",
   "execution_count": 9,
   "id": "b8186026",
   "metadata": {
    "execution": {
     "iopub.execute_input": "2023-03-28T04:32:57.921042Z",
     "iopub.status.busy": "2023-03-28T04:32:57.919314Z",
     "iopub.status.idle": "2023-03-28T04:32:57.929147Z",
     "shell.execute_reply": "2023-03-28T04:32:57.926729Z"
    },
    "papermill": {
     "duration": 0.021826,
     "end_time": "2023-03-28T04:32:57.932531",
     "exception": false,
     "start_time": "2023-03-28T04:32:57.910705",
     "status": "completed"
    },
    "tags": []
   },
   "outputs": [],
   "source": [
    "# adding a sales column to the dataset\n",
    "\n",
    "all_data['sales'] = all_data['quantity_ordered'] * all_data['price_each']"
   ]
  },
  {
   "cell_type": "code",
   "execution_count": 10,
   "id": "4dd5635a",
   "metadata": {
    "execution": {
     "iopub.execute_input": "2023-03-28T04:32:57.949337Z",
     "iopub.status.busy": "2023-03-28T04:32:57.948872Z",
     "iopub.status.idle": "2023-03-28T04:32:57.975645Z",
     "shell.execute_reply": "2023-03-28T04:32:57.973946Z"
    },
    "papermill": {
     "duration": 0.038576,
     "end_time": "2023-03-28T04:32:57.978833",
     "exception": false,
     "start_time": "2023-03-28T04:32:57.940257",
     "status": "completed"
    },
    "tags": []
   },
   "outputs": [
    {
     "data": {
      "text/html": [
       "<div>\n",
       "<style scoped>\n",
       "    .dataframe tbody tr th:only-of-type {\n",
       "        vertical-align: middle;\n",
       "    }\n",
       "\n",
       "    .dataframe tbody tr th {\n",
       "        vertical-align: top;\n",
       "    }\n",
       "\n",
       "    .dataframe thead th {\n",
       "        text-align: right;\n",
       "    }\n",
       "</style>\n",
       "<table border=\"1\" class=\"dataframe\">\n",
       "  <thead>\n",
       "    <tr style=\"text-align: right;\">\n",
       "      <th></th>\n",
       "      <th>order_id</th>\n",
       "      <th>product</th>\n",
       "      <th>quantity_ordered</th>\n",
       "      <th>price_each</th>\n",
       "      <th>order_date</th>\n",
       "      <th>purchase_address</th>\n",
       "      <th>month</th>\n",
       "      <th>sales</th>\n",
       "    </tr>\n",
       "  </thead>\n",
       "  <tbody>\n",
       "    <tr>\n",
       "      <th>0</th>\n",
       "      <td>236670</td>\n",
       "      <td>Wired Headphones</td>\n",
       "      <td>2</td>\n",
       "      <td>11.99</td>\n",
       "      <td>08/31/19 22:21</td>\n",
       "      <td>359 Spruce St, Seattle, WA 98101</td>\n",
       "      <td>8</td>\n",
       "      <td>23.98</td>\n",
       "    </tr>\n",
       "    <tr>\n",
       "      <th>1</th>\n",
       "      <td>236671</td>\n",
       "      <td>Bose SoundSport Headphones</td>\n",
       "      <td>1</td>\n",
       "      <td>99.99</td>\n",
       "      <td>08/15/19 15:11</td>\n",
       "      <td>492 Ridge St, Dallas, TX 75001</td>\n",
       "      <td>8</td>\n",
       "      <td>99.99</td>\n",
       "    </tr>\n",
       "    <tr>\n",
       "      <th>2</th>\n",
       "      <td>236672</td>\n",
       "      <td>iPhone</td>\n",
       "      <td>1</td>\n",
       "      <td>700.00</td>\n",
       "      <td>08/06/19 14:40</td>\n",
       "      <td>149 7th St, Portland, OR 97035</td>\n",
       "      <td>8</td>\n",
       "      <td>700.00</td>\n",
       "    </tr>\n",
       "    <tr>\n",
       "      <th>3</th>\n",
       "      <td>236673</td>\n",
       "      <td>AA Batteries (4-pack)</td>\n",
       "      <td>2</td>\n",
       "      <td>3.84</td>\n",
       "      <td>08/29/19 20:59</td>\n",
       "      <td>631 2nd St, Los Angeles, CA 90001</td>\n",
       "      <td>8</td>\n",
       "      <td>7.68</td>\n",
       "    </tr>\n",
       "    <tr>\n",
       "      <th>4</th>\n",
       "      <td>236674</td>\n",
       "      <td>AA Batteries (4-pack)</td>\n",
       "      <td>2</td>\n",
       "      <td>3.84</td>\n",
       "      <td>08/15/19 19:53</td>\n",
       "      <td>736 14th St, New York City, NY 10001</td>\n",
       "      <td>8</td>\n",
       "      <td>7.68</td>\n",
       "    </tr>\n",
       "  </tbody>\n",
       "</table>\n",
       "</div>"
      ],
      "text/plain": [
       "  order_id                     product  quantity_ordered  price_each  \\\n",
       "0   236670            Wired Headphones                 2       11.99   \n",
       "1   236671  Bose SoundSport Headphones                 1       99.99   \n",
       "2   236672                      iPhone                 1      700.00   \n",
       "3   236673       AA Batteries (4-pack)                 2        3.84   \n",
       "4   236674       AA Batteries (4-pack)                 2        3.84   \n",
       "\n",
       "       order_date                      purchase_address  month   sales  \n",
       "0  08/31/19 22:21      359 Spruce St, Seattle, WA 98101      8   23.98  \n",
       "1  08/15/19 15:11        492 Ridge St, Dallas, TX 75001      8   99.99  \n",
       "2  08/06/19 14:40        149 7th St, Portland, OR 97035      8  700.00  \n",
       "3  08/29/19 20:59     631 2nd St, Los Angeles, CA 90001      8    7.68  \n",
       "4  08/15/19 19:53  736 14th St, New York City, NY 10001      8    7.68  "
      ]
     },
     "execution_count": 10,
     "metadata": {},
     "output_type": "execute_result"
    }
   ],
   "source": [
    "all_data.head()"
   ]
  },
  {
   "cell_type": "code",
   "execution_count": 11,
   "id": "927f1ee1",
   "metadata": {
    "execution": {
     "iopub.execute_input": "2023-03-28T04:32:57.995410Z",
     "iopub.status.busy": "2023-03-28T04:32:57.995012Z",
     "iopub.status.idle": "2023-03-28T04:32:58.042885Z",
     "shell.execute_reply": "2023-03-28T04:32:58.041134Z"
    },
    "papermill": {
     "duration": 0.059286,
     "end_time": "2023-03-28T04:32:58.045424",
     "exception": false,
     "start_time": "2023-03-28T04:32:57.986138",
     "status": "completed"
    },
    "tags": []
   },
   "outputs": [
    {
     "data": {
      "text/html": [
       "<div>\n",
       "<style scoped>\n",
       "    .dataframe tbody tr th:only-of-type {\n",
       "        vertical-align: middle;\n",
       "    }\n",
       "\n",
       "    .dataframe tbody tr th {\n",
       "        vertical-align: top;\n",
       "    }\n",
       "\n",
       "    .dataframe thead th {\n",
       "        text-align: right;\n",
       "    }\n",
       "</style>\n",
       "<table border=\"1\" class=\"dataframe\">\n",
       "  <thead>\n",
       "    <tr style=\"text-align: right;\">\n",
       "      <th></th>\n",
       "      <th>quantity_ordered</th>\n",
       "      <th>price_each</th>\n",
       "      <th>sales</th>\n",
       "    </tr>\n",
       "    <tr>\n",
       "      <th>month</th>\n",
       "      <th></th>\n",
       "      <th></th>\n",
       "      <th></th>\n",
       "    </tr>\n",
       "  </thead>\n",
       "  <tbody>\n",
       "    <tr>\n",
       "      <th>1</th>\n",
       "      <td>10903</td>\n",
       "      <td>1811768.38</td>\n",
       "      <td>1822256.73</td>\n",
       "    </tr>\n",
       "    <tr>\n",
       "      <th>2</th>\n",
       "      <td>13449</td>\n",
       "      <td>2188884.72</td>\n",
       "      <td>2202022.42</td>\n",
       "    </tr>\n",
       "    <tr>\n",
       "      <th>3</th>\n",
       "      <td>17005</td>\n",
       "      <td>2791207.83</td>\n",
       "      <td>2807100.38</td>\n",
       "    </tr>\n",
       "    <tr>\n",
       "      <th>4</th>\n",
       "      <td>20558</td>\n",
       "      <td>3367671.02</td>\n",
       "      <td>3390670.24</td>\n",
       "    </tr>\n",
       "    <tr>\n",
       "      <th>5</th>\n",
       "      <td>18667</td>\n",
       "      <td>3135125.13</td>\n",
       "      <td>3152606.75</td>\n",
       "    </tr>\n",
       "    <tr>\n",
       "      <th>6</th>\n",
       "      <td>15253</td>\n",
       "      <td>2562025.61</td>\n",
       "      <td>2577802.26</td>\n",
       "    </tr>\n",
       "    <tr>\n",
       "      <th>7</th>\n",
       "      <td>16072</td>\n",
       "      <td>2632539.56</td>\n",
       "      <td>2647775.76</td>\n",
       "    </tr>\n",
       "    <tr>\n",
       "      <th>8</th>\n",
       "      <td>13448</td>\n",
       "      <td>2230345.42</td>\n",
       "      <td>2244467.88</td>\n",
       "    </tr>\n",
       "    <tr>\n",
       "      <th>9</th>\n",
       "      <td>13109</td>\n",
       "      <td>2084992.09</td>\n",
       "      <td>2097560.13</td>\n",
       "    </tr>\n",
       "    <tr>\n",
       "      <th>10</th>\n",
       "      <td>22703</td>\n",
       "      <td>3715554.83</td>\n",
       "      <td>3736726.88</td>\n",
       "    </tr>\n",
       "    <tr>\n",
       "      <th>11</th>\n",
       "      <td>19798</td>\n",
       "      <td>3180600.68</td>\n",
       "      <td>3199603.20</td>\n",
       "    </tr>\n",
       "    <tr>\n",
       "      <th>12</th>\n",
       "      <td>28114</td>\n",
       "      <td>4588415.41</td>\n",
       "      <td>4613443.34</td>\n",
       "    </tr>\n",
       "  </tbody>\n",
       "</table>\n",
       "</div>"
      ],
      "text/plain": [
       "       quantity_ordered  price_each       sales\n",
       "month                                          \n",
       "1                 10903  1811768.38  1822256.73\n",
       "2                 13449  2188884.72  2202022.42\n",
       "3                 17005  2791207.83  2807100.38\n",
       "4                 20558  3367671.02  3390670.24\n",
       "5                 18667  3135125.13  3152606.75\n",
       "6                 15253  2562025.61  2577802.26\n",
       "7                 16072  2632539.56  2647775.76\n",
       "8                 13448  2230345.42  2244467.88\n",
       "9                 13109  2084992.09  2097560.13\n",
       "10                22703  3715554.83  3736726.88\n",
       "11                19798  3180600.68  3199603.20\n",
       "12                28114  4588415.41  4613443.34"
      ]
     },
     "execution_count": 11,
     "metadata": {},
     "output_type": "execute_result"
    }
   ],
   "source": [
    "# grouping dataset by month and looking at the sales \n",
    "\n",
    "results = all_data.groupby('month').sum()\n",
    "results"
   ]
  },
  {
   "cell_type": "code",
   "execution_count": 12,
   "id": "dc4d395d",
   "metadata": {
    "execution": {
     "iopub.execute_input": "2023-03-28T04:32:58.062143Z",
     "iopub.status.busy": "2023-03-28T04:32:58.061665Z",
     "iopub.status.idle": "2023-03-28T04:32:58.269091Z",
     "shell.execute_reply": "2023-03-28T04:32:58.267667Z"
    },
    "papermill": {
     "duration": 0.219667,
     "end_time": "2023-03-28T04:32:58.272576",
     "exception": false,
     "start_time": "2023-03-28T04:32:58.052909",
     "status": "completed"
    },
    "tags": []
   },
   "outputs": [
    {
     "data": {
      "image/png": "[encoded data removed]",
      "text/plain": [
       "<Figure size 1200x400 with 1 Axes>"
      ]
     },
     "metadata": {},
     "output_type": "display_data"
    }
   ],
   "source": [
    "# showing a bar chart of which months had the highest sales\n",
    "\n",
    "months = range(1,13)\n",
    "\n",
    "plt.figure(figsize=(12,4))\n",
    "\n",
    "plt.bar(months,results['sales'], color='lightblue', width=.7)\n",
    "plt.xticks(months)\n",
    "plt.ylabel('Sales in USD ($) Millions')\n",
    "plt.xlabel('Month Number')\n",
    "plt.show()\n"
   ]
  },
  {
   "cell_type": "code",
   "execution_count": 13,
   "id": "481a499c",
   "metadata": {
    "execution": {
     "iopub.execute_input": "2023-03-28T04:32:58.289829Z",
     "iopub.status.busy": "2023-03-28T04:32:58.289383Z",
     "iopub.status.idle": "2023-03-28T04:32:58.529628Z",
     "shell.execute_reply": "2023-03-28T04:32:58.527594Z"
    },
    "papermill": {
     "duration": 0.252797,
     "end_time": "2023-03-28T04:32:58.533152",
     "exception": false,
     "start_time": "2023-03-28T04:32:58.280355",
     "status": "completed"
    },
    "tags": []
   },
   "outputs": [
    {
     "data": {
      "text/html": [
       "<div>\n",
       "<style scoped>\n",
       "    .dataframe tbody tr th:only-of-type {\n",
       "        vertical-align: middle;\n",
       "    }\n",
       "\n",
       "    .dataframe tbody tr th {\n",
       "        vertical-align: top;\n",
       "    }\n",
       "\n",
       "    .dataframe thead th {\n",
       "        text-align: right;\n",
       "    }\n",
       "</style>\n",
       "<table border=\"1\" class=\"dataframe\">\n",
       "  <thead>\n",
       "    <tr style=\"text-align: right;\">\n",
       "      <th></th>\n",
       "      <th>order_id</th>\n",
       "      <th>product</th>\n",
       "      <th>quantity_ordered</th>\n",
       "      <th>price_each</th>\n",
       "      <th>order_date</th>\n",
       "      <th>purchase_address</th>\n",
       "      <th>month</th>\n",
       "      <th>sales</th>\n",
       "      <th>city</th>\n",
       "    </tr>\n",
       "  </thead>\n",
       "  <tbody>\n",
       "    <tr>\n",
       "      <th>0</th>\n",
       "      <td>236670</td>\n",
       "      <td>Wired Headphones</td>\n",
       "      <td>2</td>\n",
       "      <td>11.99</td>\n",
       "      <td>08/31/19 22:21</td>\n",
       "      <td>359 Spruce St, Seattle, WA 98101</td>\n",
       "      <td>8</td>\n",
       "      <td>23.98</td>\n",
       "      <td>Seattle (WA)</td>\n",
       "    </tr>\n",
       "    <tr>\n",
       "      <th>1</th>\n",
       "      <td>236671</td>\n",
       "      <td>Bose SoundSport Headphones</td>\n",
       "      <td>1</td>\n",
       "      <td>99.99</td>\n",
       "      <td>08/15/19 15:11</td>\n",
       "      <td>492 Ridge St, Dallas, TX 75001</td>\n",
       "      <td>8</td>\n",
       "      <td>99.99</td>\n",
       "      <td>Dallas (TX)</td>\n",
       "    </tr>\n",
       "    <tr>\n",
       "      <th>2</th>\n",
       "      <td>236672</td>\n",
       "      <td>iPhone</td>\n",
       "      <td>1</td>\n",
       "      <td>700.00</td>\n",
       "      <td>08/06/19 14:40</td>\n",
       "      <td>149 7th St, Portland, OR 97035</td>\n",
       "      <td>8</td>\n",
       "      <td>700.00</td>\n",
       "      <td>Portland (OR)</td>\n",
       "    </tr>\n",
       "    <tr>\n",
       "      <th>3</th>\n",
       "      <td>236673</td>\n",
       "      <td>AA Batteries (4-pack)</td>\n",
       "      <td>2</td>\n",
       "      <td>3.84</td>\n",
       "      <td>08/29/19 20:59</td>\n",
       "      <td>631 2nd St, Los Angeles, CA 90001</td>\n",
       "      <td>8</td>\n",
       "      <td>7.68</td>\n",
       "      <td>Los Angeles (CA)</td>\n",
       "    </tr>\n",
       "    <tr>\n",
       "      <th>4</th>\n",
       "      <td>236674</td>\n",
       "      <td>AA Batteries (4-pack)</td>\n",
       "      <td>2</td>\n",
       "      <td>3.84</td>\n",
       "      <td>08/15/19 19:53</td>\n",
       "      <td>736 14th St, New York City, NY 10001</td>\n",
       "      <td>8</td>\n",
       "      <td>7.68</td>\n",
       "      <td>New York City (NY)</td>\n",
       "    </tr>\n",
       "  </tbody>\n",
       "</table>\n",
       "</div>"
      ],
      "text/plain": [
       "  order_id                     product  quantity_ordered  price_each  \\\n",
       "0   236670            Wired Headphones                 2       11.99   \n",
       "1   236671  Bose SoundSport Headphones                 1       99.99   \n",
       "2   236672                      iPhone                 1      700.00   \n",
       "3   236673       AA Batteries (4-pack)                 2        3.84   \n",
       "4   236674       AA Batteries (4-pack)                 2        3.84   \n",
       "\n",
       "       order_date                      purchase_address  month   sales  \\\n",
       "0  08/31/19 22:21      359 Spruce St, Seattle, WA 98101      8   23.98   \n",
       "1  08/15/19 15:11        492 Ridge St, Dallas, TX 75001      8   99.99   \n",
       "2  08/06/19 14:40        149 7th St, Portland, OR 97035      8  700.00   \n",
       "3  08/29/19 20:59     631 2nd St, Los Angeles, CA 90001      8    7.68   \n",
       "4  08/15/19 19:53  736 14th St, New York City, NY 10001      8    7.68   \n",
       "\n",
       "                  city  \n",
       "0         Seattle (WA)  \n",
       "1          Dallas (TX)  \n",
       "2        Portland (OR)  \n",
       "3     Los Angeles (CA)  \n",
       "4   New York City (NY)  "
      ]
     },
     "execution_count": 13,
     "metadata": {},
     "output_type": "execute_result"
    }
   ],
   "source": [
    "# adding a \"city\" column to the dataframe with the corresponding state in brackets in the same column\n",
    "def get_city(address):\n",
    "    return address.split(',')[1]\n",
    "\n",
    "def get_state(address):\n",
    "    return address.split(',')[2].split(' ')[1]\n",
    "\n",
    "all_data['city'] = all_data['purchase_address'].apply(lambda x: f\"{get_city(x)} ({get_state(x)})\")\n",
    "all_data.head()\n",
    "\n",
    "#all_data['city'] = all_data['purchase_address'].apply(lambda x: x.split(',')[1])\n",
    "#all_data['city'].value_counts()\n"
   ]
  },
  {
   "cell_type": "code",
   "execution_count": 14,
   "id": "c53a339b",
   "metadata": {
    "execution": {
     "iopub.execute_input": "2023-03-28T04:32:58.552693Z",
     "iopub.status.busy": "2023-03-28T04:32:58.551006Z",
     "iopub.status.idle": "2023-03-28T04:32:58.625242Z",
     "shell.execute_reply": "2023-03-28T04:32:58.623855Z"
    },
    "papermill": {
     "duration": 0.086279,
     "end_time": "2023-03-28T04:32:58.627631",
     "exception": false,
     "start_time": "2023-03-28T04:32:58.541352",
     "status": "completed"
    },
    "tags": []
   },
   "outputs": [
    {
     "data": {
      "text/html": [
       "<div>\n",
       "<style scoped>\n",
       "    .dataframe tbody tr th:only-of-type {\n",
       "        vertical-align: middle;\n",
       "    }\n",
       "\n",
       "    .dataframe tbody tr th {\n",
       "        vertical-align: top;\n",
       "    }\n",
       "\n",
       "    .dataframe thead th {\n",
       "        text-align: right;\n",
       "    }\n",
       "</style>\n",
       "<table border=\"1\" class=\"dataframe\">\n",
       "  <thead>\n",
       "    <tr style=\"text-align: right;\">\n",
       "      <th></th>\n",
       "      <th>quantity_ordered</th>\n",
       "      <th>price_each</th>\n",
       "      <th>month</th>\n",
       "      <th>sales</th>\n",
       "    </tr>\n",
       "    <tr>\n",
       "      <th>city</th>\n",
       "      <th></th>\n",
       "      <th></th>\n",
       "      <th></th>\n",
       "      <th></th>\n",
       "    </tr>\n",
       "  </thead>\n",
       "  <tbody>\n",
       "    <tr>\n",
       "      <th>Atlanta (GA)</th>\n",
       "      <td>16602</td>\n",
       "      <td>2779908.20</td>\n",
       "      <td>104794</td>\n",
       "      <td>2795498.58</td>\n",
       "    </tr>\n",
       "    <tr>\n",
       "      <th>Austin (TX)</th>\n",
       "      <td>11153</td>\n",
       "      <td>1809873.61</td>\n",
       "      <td>69829</td>\n",
       "      <td>1819581.75</td>\n",
       "    </tr>\n",
       "    <tr>\n",
       "      <th>Boston (MA)</th>\n",
       "      <td>22528</td>\n",
       "      <td>3637409.77</td>\n",
       "      <td>141112</td>\n",
       "      <td>3661642.01</td>\n",
       "    </tr>\n",
       "    <tr>\n",
       "      <th>Dallas (TX)</th>\n",
       "      <td>16730</td>\n",
       "      <td>2752627.82</td>\n",
       "      <td>104620</td>\n",
       "      <td>2767975.40</td>\n",
       "    </tr>\n",
       "    <tr>\n",
       "      <th>Los Angeles (CA)</th>\n",
       "      <td>33289</td>\n",
       "      <td>5421435.23</td>\n",
       "      <td>208325</td>\n",
       "      <td>5452570.80</td>\n",
       "    </tr>\n",
       "    <tr>\n",
       "      <th>New York City (NY)</th>\n",
       "      <td>27932</td>\n",
       "      <td>4635370.83</td>\n",
       "      <td>175741</td>\n",
       "      <td>4664317.43</td>\n",
       "    </tr>\n",
       "    <tr>\n",
       "      <th>Portland (ME)</th>\n",
       "      <td>2750</td>\n",
       "      <td>447189.25</td>\n",
       "      <td>17144</td>\n",
       "      <td>449758.27</td>\n",
       "    </tr>\n",
       "    <tr>\n",
       "      <th>Portland (OR)</th>\n",
       "      <td>11303</td>\n",
       "      <td>1860558.22</td>\n",
       "      <td>70621</td>\n",
       "      <td>1870732.34</td>\n",
       "    </tr>\n",
       "    <tr>\n",
       "      <th>San Francisco (CA)</th>\n",
       "      <td>50239</td>\n",
       "      <td>8211461.74</td>\n",
       "      <td>315520</td>\n",
       "      <td>8262203.91</td>\n",
       "    </tr>\n",
       "    <tr>\n",
       "      <th>Seattle (WA)</th>\n",
       "      <td>16553</td>\n",
       "      <td>2733296.01</td>\n",
       "      <td>104941</td>\n",
       "      <td>2747755.48</td>\n",
       "    </tr>\n",
       "  </tbody>\n",
       "</table>\n",
       "</div>"
      ],
      "text/plain": [
       "                     quantity_ordered  price_each   month       sales\n",
       "city                                                                 \n",
       " Atlanta (GA)                   16602  2779908.20  104794  2795498.58\n",
       " Austin (TX)                    11153  1809873.61   69829  1819581.75\n",
       " Boston (MA)                    22528  3637409.77  141112  3661642.01\n",
       " Dallas (TX)                    16730  2752627.82  104620  2767975.40\n",
       " Los Angeles (CA)               33289  5421435.23  208325  5452570.80\n",
       " New York City (NY)             27932  4635370.83  175741  4664317.43\n",
       " Portland (ME)                   2750   447189.25   17144   449758.27\n",
       " Portland (OR)                  11303  1860558.22   70621  1870732.34\n",
       " San Francisco (CA)             50239  8211461.74  315520  8262203.91\n",
       " Seattle (WA)                   16553  2733296.01  104941  2747755.48"
      ]
     },
     "execution_count": 14,
     "metadata": {},
     "output_type": "execute_result"
    }
   ],
   "source": [
    "results = all_data.groupby('city').sum()\n",
    "results\n"
   ]
  },
  {
   "cell_type": "code",
   "execution_count": 15,
   "id": "b548d559",
   "metadata": {
    "execution": {
     "iopub.execute_input": "2023-03-28T04:32:58.645720Z",
     "iopub.status.busy": "2023-03-28T04:32:58.645301Z",
     "iopub.status.idle": "2023-03-28T04:32:58.910305Z",
     "shell.execute_reply": "2023-03-28T04:32:58.909113Z"
    },
    "papermill": {
     "duration": 0.276602,
     "end_time": "2023-03-28T04:32:58.912408",
     "exception": false,
     "start_time": "2023-03-28T04:32:58.635806",
     "status": "completed"
    },
    "tags": []
   },
   "outputs": [
    {
     "data": {
      "image/png": "[encoded data removed]",
      "text/plain": [
       "<Figure size 1900x400 with 1 Axes>"
      ]
     },
     "metadata": {},
     "output_type": "display_data"
    }
   ],
   "source": [
    "# plotting a bar graph showing the cities with the highest sales\n",
    "\n",
    "plt.rcParams['figure.figsize']=(19,4)\n",
    "\n",
    "cities = [city for city, df in all_data.groupby('city')]\n",
    "\n",
    "plt.bar(cities, results['sales'])\n",
    "#plt.xticks(cities, rotation='vertical', size=8)\n",
    "plt.ylabel(\"Sales in USD($) Millions\")\n",
    "plt.show()\n"
   ]
  },
  {
   "cell_type": "markdown",
   "id": "b880e80b",
   "metadata": {
    "papermill": {
     "duration": 0.007517,
     "end_time": "2023-03-28T04:32:58.928321",
     "exception": false,
     "start_time": "2023-03-28T04:32:58.920804",
     "status": "completed"
    },
    "tags": []
   },
   "source": [
    "#### What time should we display advertisements to maximize likelihood of customers buying product?"
   ]
  },
  {
   "cell_type": "code",
   "execution_count": 16,
   "id": "68a20468",
   "metadata": {
    "execution": {
     "iopub.execute_input": "2023-03-28T04:32:58.946114Z",
     "iopub.status.busy": "2023-03-28T04:32:58.945633Z",
     "iopub.status.idle": "2023-03-28T04:33:14.805011Z",
     "shell.execute_reply": "2023-03-28T04:33:14.803968Z"
    },
    "papermill": {
     "duration": 15.872058,
     "end_time": "2023-03-28T04:33:14.808179",
     "exception": false,
     "start_time": "2023-03-28T04:32:58.936121",
     "status": "completed"
    },
    "tags": []
   },
   "outputs": [],
   "source": [
    "# convert order_date column into a datetime data type\n",
    "\n",
    "all_data['order_date'] = pd.to_datetime(all_data['order_date'])"
   ]
  },
  {
   "cell_type": "code",
   "execution_count": 17,
   "id": "40fc092f",
   "metadata": {
    "execution": {
     "iopub.execute_input": "2023-03-28T04:33:14.827184Z",
     "iopub.status.busy": "2023-03-28T04:33:14.826767Z",
     "iopub.status.idle": "2023-03-28T04:33:14.858178Z",
     "shell.execute_reply": "2023-03-28T04:33:14.856306Z"
    },
    "papermill": {
     "duration": 0.044471,
     "end_time": "2023-03-28T04:33:14.861477",
     "exception": false,
     "start_time": "2023-03-28T04:33:14.817006",
     "status": "completed"
    },
    "tags": []
   },
   "outputs": [
    {
     "data": {
      "text/html": [
       "<div>\n",
       "<style scoped>\n",
       "    .dataframe tbody tr th:only-of-type {\n",
       "        vertical-align: middle;\n",
       "    }\n",
       "\n",
       "    .dataframe tbody tr th {\n",
       "        vertical-align: top;\n",
       "    }\n",
       "\n",
       "    .dataframe thead th {\n",
       "        text-align: right;\n",
       "    }\n",
       "</style>\n",
       "<table border=\"1\" class=\"dataframe\">\n",
       "  <thead>\n",
       "    <tr style=\"text-align: right;\">\n",
       "      <th></th>\n",
       "      <th>order_id</th>\n",
       "      <th>product</th>\n",
       "      <th>quantity_ordered</th>\n",
       "      <th>price_each</th>\n",
       "      <th>order_date</th>\n",
       "      <th>purchase_address</th>\n",
       "      <th>month</th>\n",
       "      <th>sales</th>\n",
       "      <th>city</th>\n",
       "      <th>hour</th>\n",
       "      <th>minute</th>\n",
       "    </tr>\n",
       "  </thead>\n",
       "  <tbody>\n",
       "    <tr>\n",
       "      <th>0</th>\n",
       "      <td>236670</td>\n",
       "      <td>Wired Headphones</td>\n",
       "      <td>2</td>\n",
       "      <td>11.99</td>\n",
       "      <td>2019-08-31 22:21:00</td>\n",
       "      <td>359 Spruce St, Seattle, WA 98101</td>\n",
       "      <td>8</td>\n",
       "      <td>23.98</td>\n",
       "      <td>Seattle (WA)</td>\n",
       "      <td>22</td>\n",
       "      <td>21</td>\n",
       "    </tr>\n",
       "    <tr>\n",
       "      <th>1</th>\n",
       "      <td>236671</td>\n",
       "      <td>Bose SoundSport Headphones</td>\n",
       "      <td>1</td>\n",
       "      <td>99.99</td>\n",
       "      <td>2019-08-15 15:11:00</td>\n",
       "      <td>492 Ridge St, Dallas, TX 75001</td>\n",
       "      <td>8</td>\n",
       "      <td>99.99</td>\n",
       "      <td>Dallas (TX)</td>\n",
       "      <td>15</td>\n",
       "      <td>11</td>\n",
       "    </tr>\n",
       "    <tr>\n",
       "      <th>2</th>\n",
       "      <td>236672</td>\n",
       "      <td>iPhone</td>\n",
       "      <td>1</td>\n",
       "      <td>700.00</td>\n",
       "      <td>2019-08-06 14:40:00</td>\n",
       "      <td>149 7th St, Portland, OR 97035</td>\n",
       "      <td>8</td>\n",
       "      <td>700.00</td>\n",
       "      <td>Portland (OR)</td>\n",
       "      <td>14</td>\n",
       "      <td>40</td>\n",
       "    </tr>\n",
       "    <tr>\n",
       "      <th>3</th>\n",
       "      <td>236673</td>\n",
       "      <td>AA Batteries (4-pack)</td>\n",
       "      <td>2</td>\n",
       "      <td>3.84</td>\n",
       "      <td>2019-08-29 20:59:00</td>\n",
       "      <td>631 2nd St, Los Angeles, CA 90001</td>\n",
       "      <td>8</td>\n",
       "      <td>7.68</td>\n",
       "      <td>Los Angeles (CA)</td>\n",
       "      <td>20</td>\n",
       "      <td>59</td>\n",
       "    </tr>\n",
       "    <tr>\n",
       "      <th>4</th>\n",
       "      <td>236674</td>\n",
       "      <td>AA Batteries (4-pack)</td>\n",
       "      <td>2</td>\n",
       "      <td>3.84</td>\n",
       "      <td>2019-08-15 19:53:00</td>\n",
       "      <td>736 14th St, New York City, NY 10001</td>\n",
       "      <td>8</td>\n",
       "      <td>7.68</td>\n",
       "      <td>New York City (NY)</td>\n",
       "      <td>19</td>\n",
       "      <td>53</td>\n",
       "    </tr>\n",
       "  </tbody>\n",
       "</table>\n",
       "</div>"
      ],
      "text/plain": [
       "  order_id                     product  quantity_ordered  price_each  \\\n",
       "0   236670            Wired Headphones                 2       11.99   \n",
       "1   236671  Bose SoundSport Headphones                 1       99.99   \n",
       "2   236672                      iPhone                 1      700.00   \n",
       "3   236673       AA Batteries (4-pack)                 2        3.84   \n",
       "4   236674       AA Batteries (4-pack)                 2        3.84   \n",
       "\n",
       "           order_date                      purchase_address  month   sales  \\\n",
       "0 2019-08-31 22:21:00      359 Spruce St, Seattle, WA 98101      8   23.98   \n",
       "1 2019-08-15 15:11:00        492 Ridge St, Dallas, TX 75001      8   99.99   \n",
       "2 2019-08-06 14:40:00        149 7th St, Portland, OR 97035      8  700.00   \n",
       "3 2019-08-29 20:59:00     631 2nd St, Los Angeles, CA 90001      8    7.68   \n",
       "4 2019-08-15 19:53:00  736 14th St, New York City, NY 10001      8    7.68   \n",
       "\n",
       "                  city  hour  minute  \n",
       "0         Seattle (WA)    22      21  \n",
       "1          Dallas (TX)    15      11  \n",
       "2        Portland (OR)    14      40  \n",
       "3     Los Angeles (CA)    20      59  \n",
       "4   New York City (NY)    19      53  "
      ]
     },
     "execution_count": 17,
     "metadata": {},
     "output_type": "execute_result"
    }
   ],
   "source": [
    "# adding hour and minute columns to the dataframe\n",
    "\n",
    "all_data['hour'] = all_data['order_date'].dt.hour\n",
    "all_data['minute'] = all_data['order_date'].dt.minute\n",
    "all_data.head()"
   ]
  },
  {
   "cell_type": "code",
   "execution_count": 18,
   "id": "a81b6fe6",
   "metadata": {
    "execution": {
     "iopub.execute_input": "2023-03-28T04:33:14.883550Z",
     "iopub.status.busy": "2023-03-28T04:33:14.882081Z",
     "iopub.status.idle": "2023-03-28T04:33:15.237603Z",
     "shell.execute_reply": "2023-03-28T04:33:15.236715Z"
    },
    "papermill": {
     "duration": 0.369714,
     "end_time": "2023-03-28T04:33:15.239908",
     "exception": false,
     "start_time": "2023-03-28T04:33:14.870194",
     "status": "completed"
    },
    "tags": []
   },
   "outputs": [
    {
     "data": {
      "image/png": "[encoded data removed]",
      "text/plain": [
       "<Figure size 1900x400 with 1 Axes>"
      ]
     },
     "metadata": {},
     "output_type": "display_data"
    },
    {
     "data": {
      "text/plain": [
       "<Figure size 1200x400 with 0 Axes>"
      ]
     },
     "metadata": {},
     "output_type": "display_data"
    }
   ],
   "source": [
    "# plotting line chart to show the orders and what time they appear\n",
    "\n",
    "hours = [hour for hour, df in all_data.groupby('hour')]\n",
    "\n",
    "plt.plot(hours, all_data.groupby(['hour']).count())\n",
    "plt.xticks(hours)\n",
    "plt.grid()\n",
    "plt.ylabel(\"# of Orders\")\n",
    "plt.figure(figsize=(12,4))\n",
    "plt.show()\n",
    "\n",
    "# chart shows the peak time of orders is around 11am or 7pm (19)"
   ]
  },
  {
   "cell_type": "markdown",
   "id": "860414ef",
   "metadata": {
    "papermill": {
     "duration": 0.008495,
     "end_time": "2023-03-28T04:33:15.257449",
     "exception": false,
     "start_time": "2023-03-28T04:33:15.248954",
     "status": "completed"
    },
    "tags": []
   },
   "source": [
    "## What products are most often sold together?"
   ]
  },
  {
   "cell_type": "code",
   "execution_count": 19,
   "id": "a4766e14",
   "metadata": {
    "execution": {
     "iopub.execute_input": "2023-03-28T04:33:15.277962Z",
     "iopub.status.busy": "2023-03-28T04:33:15.277183Z",
     "iopub.status.idle": "2023-03-28T04:33:16.297196Z",
     "shell.execute_reply": "2023-03-28T04:33:16.294827Z"
    },
    "papermill": {
     "duration": 1.034884,
     "end_time": "2023-03-28T04:33:16.301348",
     "exception": false,
     "start_time": "2023-03-28T04:33:15.266464",
     "status": "completed"
    },
    "tags": []
   },
   "outputs": [
    {
     "name": "stderr",
     "output_type": "stream",
     "text": [
      "/opt/conda/lib/python3.7/site-packages/ipykernel_launcher.py:4: SettingWithCopyWarning: \n",
      "A value is trying to be set on a copy of a slice from a DataFrame.\n",
      "Try using .loc[row_indexer,col_indexer] = value instead\n",
      "\n",
      "See the caveats in the documentation: https://pandas.pydata.org/pandas-docs/stable/user_guide/indexing.html#returning-a-view-versus-a-copy\n",
      "  after removing the cwd from sys.path.\n"
     ]
    },
    {
     "data": {
      "text/html": [
       "<div>\n",
       "<style scoped>\n",
       "    .dataframe tbody tr th:only-of-type {\n",
       "        vertical-align: middle;\n",
       "    }\n",
       "\n",
       "    .dataframe tbody tr th {\n",
       "        vertical-align: top;\n",
       "    }\n",
       "\n",
       "    .dataframe thead th {\n",
       "        text-align: right;\n",
       "    }\n",
       "</style>\n",
       "<table border=\"1\" class=\"dataframe\">\n",
       "  <thead>\n",
       "    <tr style=\"text-align: right;\">\n",
       "      <th></th>\n",
       "      <th>order_id</th>\n",
       "      <th>grouped</th>\n",
       "    </tr>\n",
       "  </thead>\n",
       "  <tbody>\n",
       "    <tr>\n",
       "      <th>46</th>\n",
       "      <td>236716</td>\n",
       "      <td>AA Batteries (4-pack) , USB-C Charging Cable</td>\n",
       "    </tr>\n",
       "    <tr>\n",
       "      <th>60</th>\n",
       "      <td>236729</td>\n",
       "      <td>iPhone , Apple Airpods Headphones</td>\n",
       "    </tr>\n",
       "    <tr>\n",
       "      <th>62</th>\n",
       "      <td>236730</td>\n",
       "      <td>Google Phone , Wired Headphones</td>\n",
       "    </tr>\n",
       "    <tr>\n",
       "      <th>132</th>\n",
       "      <td>236799</td>\n",
       "      <td>Google Phone , Wired Headphones</td>\n",
       "    </tr>\n",
       "    <tr>\n",
       "      <th>163</th>\n",
       "      <td>236829</td>\n",
       "      <td>Vareebadd Phone , USB-C Charging Cable</td>\n",
       "    </tr>\n",
       "  </tbody>\n",
       "</table>\n",
       "</div>"
      ],
      "text/plain": [
       "    order_id                                       grouped\n",
       "46    236716  AA Batteries (4-pack) , USB-C Charging Cable\n",
       "60    236729             iPhone , Apple Airpods Headphones\n",
       "62    236730               Google Phone , Wired Headphones\n",
       "132   236799               Google Phone , Wired Headphones\n",
       "163   236829        Vareebadd Phone , USB-C Charging Cable"
      ]
     },
     "execution_count": 19,
     "metadata": {},
     "output_type": "execute_result"
    }
   ],
   "source": [
    "# creating a grouped column where the products are sold within the same order_id\n",
    "\n",
    "df = all_data[all_data['order_id'].duplicated(keep=False)]\n",
    "df['grouped'] = df.groupby('order_id')['product'].transform(lambda x: \" , \".join(x))\n",
    "\n",
    "df = df[['order_id', 'grouped']].drop_duplicates()\n",
    "\n",
    "df.head(5)"
   ]
  },
  {
   "cell_type": "code",
   "execution_count": 20,
   "id": "465b177b",
   "metadata": {
    "execution": {
     "iopub.execute_input": "2023-03-28T04:33:16.323020Z",
     "iopub.status.busy": "2023-03-28T04:33:16.322539Z",
     "iopub.status.idle": "2023-03-28T04:33:16.375719Z",
     "shell.execute_reply": "2023-03-28T04:33:16.373019Z"
    },
    "papermill": {
     "duration": 0.069023,
     "end_time": "2023-03-28T04:33:16.380177",
     "exception": false,
     "start_time": "2023-03-28T04:33:16.311154",
     "status": "completed"
    },
    "tags": []
   },
   "outputs": [
    {
     "name": "stdout",
     "output_type": "stream",
     "text": [
      "('iPhone ', ' Lightning Charging Cable') 886\n",
      "('Google Phone ', ' USB-C Charging Cable') 859\n",
      "('iPhone ', ' Wired Headphones') 443\n",
      "('Google Phone ', ' Wired Headphones') 405\n",
      "('iPhone ', ' Apple Airpods Headphones') 329\n",
      "('Vareebadd Phone ', ' USB-C Charging Cable') 312\n",
      "('Google Phone ', ' Bose SoundSport Headphones') 192\n",
      "('Vareebadd Phone ', ' Wired Headphones') 140\n",
      "('Google Phone ', ' USB-C Charging Cable ') 128\n",
      "('iPhone ', ' Lightning Charging Cable ') 119\n"
     ]
    }
   ],
   "source": [
    "# showing that iphone and lighting charger cable is the most common items purchased together\n",
    "\n",
    "from itertools import combinations\n",
    "from collections import Counter\n",
    "\n",
    "count = Counter()\n",
    "\n",
    "for row in df['grouped']:\n",
    "    row_list = row.split(',')\n",
    "    count.update(Counter(combinations(row_list, 2)))\n",
    "    \n",
    "for key, value in count.most_common(10):\n",
    "    print(key, value)"
   ]
  },
  {
   "cell_type": "markdown",
   "id": "a480e73d",
   "metadata": {
    "papermill": {
     "duration": 0.009396,
     "end_time": "2023-03-28T04:33:16.399882",
     "exception": false,
     "start_time": "2023-03-28T04:33:16.390486",
     "status": "completed"
    },
    "tags": []
   },
   "source": [
    "## What product sold the most? Why do you think it sold the most?"
   ]
  },
  {
   "cell_type": "code",
   "execution_count": 21,
   "id": "8b29da7d",
   "metadata": {
    "execution": {
     "iopub.execute_input": "2023-03-28T04:33:16.421718Z",
     "iopub.status.busy": "2023-03-28T04:33:16.421283Z",
     "iopub.status.idle": "2023-03-28T04:33:16.441838Z",
     "shell.execute_reply": "2023-03-28T04:33:16.439787Z"
    },
    "papermill": {
     "duration": 0.035677,
     "end_time": "2023-03-28T04:33:16.445455",
     "exception": false,
     "start_time": "2023-03-28T04:33:16.409778",
     "status": "completed"
    },
    "tags": []
   },
   "outputs": [
    {
     "data": {
      "text/html": [
       "<div>\n",
       "<style scoped>\n",
       "    .dataframe tbody tr th:only-of-type {\n",
       "        vertical-align: middle;\n",
       "    }\n",
       "\n",
       "    .dataframe tbody tr th {\n",
       "        vertical-align: top;\n",
       "    }\n",
       "\n",
       "    .dataframe thead th {\n",
       "        text-align: right;\n",
       "    }\n",
       "</style>\n",
       "<table border=\"1\" class=\"dataframe\">\n",
       "  <thead>\n",
       "    <tr style=\"text-align: right;\">\n",
       "      <th></th>\n",
       "      <th>order_id</th>\n",
       "      <th>product</th>\n",
       "      <th>quantity_ordered</th>\n",
       "      <th>price_each</th>\n",
       "      <th>order_date</th>\n",
       "      <th>purchase_address</th>\n",
       "      <th>month</th>\n",
       "      <th>sales</th>\n",
       "      <th>city</th>\n",
       "      <th>hour</th>\n",
       "      <th>minute</th>\n",
       "    </tr>\n",
       "  </thead>\n",
       "  <tbody>\n",
       "    <tr>\n",
       "      <th>0</th>\n",
       "      <td>236670</td>\n",
       "      <td>Wired Headphones</td>\n",
       "      <td>2</td>\n",
       "      <td>11.99</td>\n",
       "      <td>2019-08-31 22:21:00</td>\n",
       "      <td>359 Spruce St, Seattle, WA 98101</td>\n",
       "      <td>8</td>\n",
       "      <td>23.98</td>\n",
       "      <td>Seattle (WA)</td>\n",
       "      <td>22</td>\n",
       "      <td>21</td>\n",
       "    </tr>\n",
       "    <tr>\n",
       "      <th>1</th>\n",
       "      <td>236671</td>\n",
       "      <td>Bose SoundSport Headphones</td>\n",
       "      <td>1</td>\n",
       "      <td>99.99</td>\n",
       "      <td>2019-08-15 15:11:00</td>\n",
       "      <td>492 Ridge St, Dallas, TX 75001</td>\n",
       "      <td>8</td>\n",
       "      <td>99.99</td>\n",
       "      <td>Dallas (TX)</td>\n",
       "      <td>15</td>\n",
       "      <td>11</td>\n",
       "    </tr>\n",
       "    <tr>\n",
       "      <th>2</th>\n",
       "      <td>236672</td>\n",
       "      <td>iPhone</td>\n",
       "      <td>1</td>\n",
       "      <td>700.00</td>\n",
       "      <td>2019-08-06 14:40:00</td>\n",
       "      <td>149 7th St, Portland, OR 97035</td>\n",
       "      <td>8</td>\n",
       "      <td>700.00</td>\n",
       "      <td>Portland (OR)</td>\n",
       "      <td>14</td>\n",
       "      <td>40</td>\n",
       "    </tr>\n",
       "    <tr>\n",
       "      <th>3</th>\n",
       "      <td>236673</td>\n",
       "      <td>AA Batteries (4-pack)</td>\n",
       "      <td>2</td>\n",
       "      <td>3.84</td>\n",
       "      <td>2019-08-29 20:59:00</td>\n",
       "      <td>631 2nd St, Los Angeles, CA 90001</td>\n",
       "      <td>8</td>\n",
       "      <td>7.68</td>\n",
       "      <td>Los Angeles (CA)</td>\n",
       "      <td>20</td>\n",
       "      <td>59</td>\n",
       "    </tr>\n",
       "    <tr>\n",
       "      <th>4</th>\n",
       "      <td>236674</td>\n",
       "      <td>AA Batteries (4-pack)</td>\n",
       "      <td>2</td>\n",
       "      <td>3.84</td>\n",
       "      <td>2019-08-15 19:53:00</td>\n",
       "      <td>736 14th St, New York City, NY 10001</td>\n",
       "      <td>8</td>\n",
       "      <td>7.68</td>\n",
       "      <td>New York City (NY)</td>\n",
       "      <td>19</td>\n",
       "      <td>53</td>\n",
       "    </tr>\n",
       "  </tbody>\n",
       "</table>\n",
       "</div>"
      ],
      "text/plain": [
       "  order_id                     product  quantity_ordered  price_each  \\\n",
       "0   236670            Wired Headphones                 2       11.99   \n",
       "1   236671  Bose SoundSport Headphones                 1       99.99   \n",
       "2   236672                      iPhone                 1      700.00   \n",
       "3   236673       AA Batteries (4-pack)                 2        3.84   \n",
       "4   236674       AA Batteries (4-pack)                 2        3.84   \n",
       "\n",
       "           order_date                      purchase_address  month   sales  \\\n",
       "0 2019-08-31 22:21:00      359 Spruce St, Seattle, WA 98101      8   23.98   \n",
       "1 2019-08-15 15:11:00        492 Ridge St, Dallas, TX 75001      8   99.99   \n",
       "2 2019-08-06 14:40:00        149 7th St, Portland, OR 97035      8  700.00   \n",
       "3 2019-08-29 20:59:00     631 2nd St, Los Angeles, CA 90001      8    7.68   \n",
       "4 2019-08-15 19:53:00  736 14th St, New York City, NY 10001      8    7.68   \n",
       "\n",
       "                  city  hour  minute  \n",
       "0         Seattle (WA)    22      21  \n",
       "1          Dallas (TX)    15      11  \n",
       "2        Portland (OR)    14      40  \n",
       "3     Los Angeles (CA)    20      59  \n",
       "4   New York City (NY)    19      53  "
      ]
     },
     "execution_count": 21,
     "metadata": {},
     "output_type": "execute_result"
    }
   ],
   "source": [
    "all_data.head()"
   ]
  },
  {
   "cell_type": "code",
   "execution_count": 22,
   "id": "ba879a6c",
   "metadata": {
    "execution": {
     "iopub.execute_input": "2023-03-28T04:33:16.468730Z",
     "iopub.status.busy": "2023-03-28T04:33:16.468210Z",
     "iopub.status.idle": "2023-03-28T04:33:16.510902Z",
     "shell.execute_reply": "2023-03-28T04:33:16.508616Z"
    },
    "papermill": {
     "duration": 0.057634,
     "end_time": "2023-03-28T04:33:16.513781",
     "exception": false,
     "start_time": "2023-03-28T04:33:16.456147",
     "status": "completed"
    },
    "tags": []
   },
   "outputs": [],
   "source": [
    "product_group = all_data.groupby('product')\n",
    "quantity_ordered = product_group.sum()['quantity_ordered']"
   ]
  },
  {
   "cell_type": "code",
   "execution_count": 23,
   "id": "54144a81",
   "metadata": {
    "execution": {
     "iopub.execute_input": "2023-03-28T04:33:16.538896Z",
     "iopub.status.busy": "2023-03-28T04:33:16.537904Z",
     "iopub.status.idle": "2023-03-28T04:33:16.839830Z",
     "shell.execute_reply": "2023-03-28T04:33:16.838100Z"
    },
    "papermill": {
     "duration": 0.317056,
     "end_time": "2023-03-28T04:33:16.842089",
     "exception": false,
     "start_time": "2023-03-28T04:33:16.525033",
     "status": "completed"
    },
    "tags": []
   },
   "outputs": [
    {
     "data": {
      "image/png": "[encoded data removed]",
      "text/plain": [
       "<Figure size 1200x400 with 1 Axes>"
      ]
     },
     "metadata": {},
     "output_type": "display_data"
    }
   ],
   "source": [
    "# bar plot showing aaa batteries sold the most \n",
    "\n",
    "plt.figure(figsize=(12,4))\n",
    "\n",
    "products = [product for product, df in product_group]\n",
    "\n",
    "plt.bar(products, quantity_ordered)\n",
    "plt.xticks(products, rotation='vertical', size=8)\n",
    "plt.ylabel('Quantity Ordered')\n",
    "plt.show()"
   ]
  },
  {
   "cell_type": "code",
   "execution_count": 24,
   "id": "56cad1da",
   "metadata": {
    "execution": {
     "iopub.execute_input": "2023-03-28T04:33:16.865069Z",
     "iopub.status.busy": "2023-03-28T04:33:16.864606Z",
     "iopub.status.idle": "2023-03-28T04:33:16.918570Z",
     "shell.execute_reply": "2023-03-28T04:33:16.917167Z"
    },
    "papermill": {
     "duration": 0.069051,
     "end_time": "2023-03-28T04:33:16.921615",
     "exception": false,
     "start_time": "2023-03-28T04:33:16.852564",
     "status": "completed"
    },
    "tags": []
   },
   "outputs": [
    {
     "data": {
      "text/plain": [
       "product\n",
       "20in Monitor                   109.99\n",
       "27in 4K Gaming Monitor         389.99\n",
       "27in FHD Monitor               149.99\n",
       "34in Ultrawide Monitor         379.99\n",
       "AA Batteries (4-pack)            3.84\n",
       "AAA Batteries (4-pack)           2.99\n",
       "Apple Airpods Headphones       150.00\n",
       "Bose SoundSport Headphones      99.99\n",
       "Flatscreen TV                  300.00\n",
       "Google Phone                   600.00\n",
       "LG Dryer                       600.00\n",
       "LG Washing Machine             600.00\n",
       "Lightning Charging Cable        14.95\n",
       "Macbook Pro Laptop            1700.00\n",
       "ThinkPad Laptop                999.99\n",
       "USB-C Charging Cable            11.95\n",
       "Vareebadd Phone                400.00\n",
       "Wired Headphones                11.99\n",
       "iPhone                         700.00\n",
       "Name: price_each, dtype: float64"
      ]
     },
     "execution_count": 24,
     "metadata": {},
     "output_type": "execute_result"
    }
   ],
   "source": [
    "# showing the average prices of the products\n",
    "\n",
    "prices = all_data.groupby('product').mean()['price_each']\n",
    "prices"
   ]
  },
  {
   "cell_type": "code",
   "execution_count": 25,
   "id": "3d18bedc",
   "metadata": {
    "execution": {
     "iopub.execute_input": "2023-03-28T04:33:16.947544Z",
     "iopub.status.busy": "2023-03-28T04:33:16.945914Z",
     "iopub.status.idle": "2023-03-28T04:33:17.321983Z",
     "shell.execute_reply": "2023-03-28T04:33:17.320678Z"
    },
    "papermill": {
     "duration": 0.392594,
     "end_time": "2023-03-28T04:33:17.324932",
     "exception": false,
     "start_time": "2023-03-28T04:33:16.932338",
     "status": "completed"
    },
    "tags": []
   },
   "outputs": [
    {
     "name": "stderr",
     "output_type": "stream",
     "text": [
      "/opt/conda/lib/python3.7/site-packages/ipykernel_launcher.py:12: UserWarning: FixedFormatter should only be used together with FixedLocator\n",
      "  if sys.path[0] == \"\":\n"
     ]
    },
    {
     "data": {
      "image/png": "[encoded data removed]",
      "text/plain": [
       "<Figure size 1900x400 with 2 Axes>"
      ]
     },
     "metadata": {},
     "output_type": "display_data"
    }
   ],
   "source": [
    "# adding a subplot of prices on the graph and correlating it with the quantity ordered of the products\n",
    "\n",
    "fig, ax1 = plt.subplots()\n",
    "\n",
    "ax2 = ax1.twinx()\n",
    "ax1.bar(products, quantity_ordered, color='g')\n",
    "ax2.plot(products, prices, 'b-')\n",
    "\n",
    "ax1.set_xlabel(\"Product Name\")\n",
    "ax1.set_ylabel(\"Quantity Ordered\", color='g')\n",
    "ax2.set_ylabel('Price ($)', color='b')\n",
    "ax1.set_xticklabels(products, rotation='vertical', size=8)\n",
    "\n",
    "plt.show()\n",
    "\n"
   ]
  },
  {
   "cell_type": "code",
   "execution_count": null,
   "id": "b0b3dc7f",
   "metadata": {
    "papermill": {
     "duration": 0.011072,
     "end_time": "2023-03-28T04:33:17.348053",
     "exception": false,
     "start_time": "2023-03-28T04:33:17.336981",
     "status": "completed"
    },
    "tags": []
   },
   "outputs": [],
   "source": []
  }
 ],
 "metadata": {
  "kernelspec": {
   "display_name": "Python 3",
   "language": "python",
   "name": "python3"
  },
  "language_info": {
   "codemirror_mode": {
    "name": "ipython",
    "version": 3
   },
   "file_extension": ".py",
   "mimetype": "text/x-python",
   "name": "python",
   "nbconvert_exporter": "python",
   "pygments_lexer": "ipython3",
   "version": "3.7.12"
  },
  "papermill": {
   "default_parameters": {},
   "duration": 32.665248,
   "end_time": "2023-03-28T04:33:18.385359",
   "environment_variables": {},
   "exception": null,
   "input_path": "__notebook__.ipynb",
   "output_path": "__notebook__.ipynb",
   "parameters": {},
   "start_time": "2023-03-28T04:32:45.720111",
   "version": "2.4.0"
  }
 },
 "nbformat": 4,
 "nbformat_minor": 5
}
